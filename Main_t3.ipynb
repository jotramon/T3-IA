{
  "nbformat": 4,
  "nbformat_minor": 0,
  "metadata": {
    "colab": {
      "name": "Main_t3.ipynb",
      "provenance": [],
      "collapsed_sections": [],
      "toc_visible": true,
      "authorship_tag": "ABX9TyNjDF8jAlwTbsxEW8xbyRjL",
      "include_colab_link": true
    },
    "kernelspec": {
      "name": "python3",
      "display_name": "Python 3"
    }
  },
  "cells": [
    {
      "cell_type": "markdown",
      "metadata": {
        "id": "view-in-github",
        "colab_type": "text"
      },
      "source": [
        "<a href=\"https://colab.research.google.com/github/jotramon/T3-IA/blob/master/Main_t3.ipynb\" target=\"_parent\"><img src=\"https://colab.research.google.com/assets/colab-badge.svg\" alt=\"Open In Colab\"/></a>"
      ]
    },
    {
      "cell_type": "markdown",
      "metadata": {
        "id": "2zlY27M6FW6g",
        "colab_type": "text"
      },
      "source": [
        "### **Pregunta** 1\n",
        "\n",
        "  a) \n",
        "\n",
        "  b)\n",
        "\n",
        "  c)"
      ]
    },
    {
      "cell_type": "code",
      "metadata": {
        "id": "iiTa6o5fDg6s",
        "colab_type": "code",
        "colab": {}
      },
      "source": [
        ""
      ],
      "execution_count": 0,
      "outputs": []
    },
    {
      "cell_type": "markdown",
      "metadata": {
        "colab_type": "text",
        "id": "8m7Aa2FvF6Cb"
      },
      "source": [
        "### **Pregunta** 2\n",
        "\n",
        "  a) \n",
        "\n",
        "  b)\n",
        "\n",
        "  c)"
      ]
    },
    {
      "cell_type": "markdown",
      "metadata": {
        "colab_type": "text",
        "id": "CMqrs4SzGIa9"
      },
      "source": [
        "### **Pregunta** 3\n",
        "\n",
        "  a) \n",
        "\n",
        "  b)\n",
        "\n",
        "  c)"
      ]
    }
  ]
}